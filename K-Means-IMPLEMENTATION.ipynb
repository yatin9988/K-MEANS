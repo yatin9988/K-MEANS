{
 "cells": [
  {
   "cell_type": "code",
   "execution_count": 109,
   "metadata": {},
   "outputs": [],
   "source": [
    "import numpy as np\n",
    "import matplotlib.pyplot as plt\n",
    "from sklearn.datasets import make_blobs"
   ]
  },
  {
   "cell_type": "code",
   "execution_count": 110,
   "metadata": {},
   "outputs": [],
   "source": [
    "X,y = make_blobs(n_samples=1000,n_features=2,centers=5,random_state=10,cluster_std=2)"
   ]
  },
  {
   "cell_type": "code",
   "execution_count": 111,
   "metadata": {},
   "outputs": [
    {
     "data": {
      "image/png": "[encoded data removed]",
      "text/plain": [
       "<Figure size 432x288 with 1 Axes>"
      ]
     },
     "metadata": {
      "needs_background": "light"
     },
     "output_type": "display_data"
    }
   ],
   "source": [
    "plt.grid(True)\n",
    "plt.scatter(X[:,0],X[:,1])\n",
    "plt.show()"
   ]
  },
  {
   "cell_type": "code",
   "execution_count": 117,
   "metadata": {},
   "outputs": [],
   "source": [
    "## step 1 is to initialise random centers for the k clusters\n",
    " \n",
    "color = [\"red\",\"green\",\"blue\",\"orange\",\"yellow\"]\n",
    "\n",
    "## k clusters\n",
    "k = 5\n",
    "\n",
    "## clusters is a dictionary that will store dictionaries of all clusters storing information like center,color,points \n",
    "clusters = {}\n",
    "\n",
    "for i in range(k):\n",
    "    \n",
    "    ## initialise with a random center between -10 and 10 in both axis\n",
    "    center = 10*np.random.random((2,))\n",
    "    \n",
    "    points = []\n",
    "    cluster = {\n",
    "        'center':center,\n",
    "        'points':points,\n",
    "        'color':color[i]\n",
    "    }\n",
    "    \n",
    "    clusters[i] = cluster\n",
    "    \n",
    "    "
   ]
  },
  {
   "cell_type": "code",
   "execution_count": 118,
   "metadata": {},
   "outputs": [
    {
     "name": "stdout",
     "output_type": "stream",
     "text": [
      "{0: {'center': array([4.43430066, 3.42660107]), 'points': [], 'color': 'red'}, 1: {'center': array([0.56879726, 1.02979804]), 'points': [], 'color': 'green'}, 2: {'center': array([8.04992776, 5.30056348]), 'points': [], 'color': 'blue'}, 3: {'center': array([5.6764413 , 1.53960305]), 'points': [], 'color': 'orange'}, 4: {'center': array([6.77568665, 5.68878827]), 'points': [], 'color': 'yellow'}}\n"
     ]
    }
   ],
   "source": [
    "print(clusters)"
   ]
  },
  {
   "cell_type": "code",
   "execution_count": 114,
   "metadata": {},
   "outputs": [],
   "source": [
    "def Distance(v1,v2):\n",
    "    return np.sum((v1-v2)**2)"
   ]
  },
  {
   "cell_type": "code",
   "execution_count": 115,
   "metadata": {},
   "outputs": [],
   "source": [
    "## step 2 is to divide all the samples into k clusters"
   ]
  },
  {
   "cell_type": "code",
   "execution_count": 116,
   "metadata": {},
   "outputs": [],
   "source": [
    "## assigning the points a cluster is known as the E step\n",
    "\n",
    "def Estep(clusters):    \n",
    "    for i in range(X.shape[0]):\n",
    "        point = X[i]\n",
    "        distance = []\n",
    "        for kx in range(k):\n",
    "            dist = Distance(point,clusters[kx]['center'])\n",
    "            distance.append(dist)\n",
    "        clusters[np.argmin(distance)]['points'].append(point)    \n",
    "            "
   ]
  },
  {
   "cell_type": "code",
   "execution_count": 123,
   "metadata": {},
   "outputs": [],
   "source": [
    "## updating the cluster centers is known as the M step\n",
    "\n",
    "def Mstep(clusters):\n",
    "    \n",
    "    for kx in clusters:\n",
    "        \n",
    "        points = np.array(clusters[kx]['points'])\n",
    "        try:\n",
    "            new_mean = np.mean(points,axis=0)\n",
    "            clusters[kx]['center'] = new_mean\n",
    "            clusters[kx]['points'] = []\n",
    "        except:\n",
    "            pass\n",
    "        "
   ]
  },
  {
   "cell_type": "code",
   "execution_count": null,
   "metadata": {},
   "outputs": [],
   "source": []
  }
 ],
 "metadata": {
  "kernelspec": {
   "display_name": "Python 3",
   "language": "python",
   "name": "python3"
  },
  "language_info": {
   "codemirror_mode": {
    "name": "ipython",
    "version": 3
   },
   "file_extension": ".py",
   "mimetype": "text/x-python",
   "name": "python",
   "nbconvert_exporter": "python",
   "pygments_lexer": "ipython3",
   "version": "3.7.1"
  }
 },
 "nbformat": 4,
 "nbformat_minor": 2
}
